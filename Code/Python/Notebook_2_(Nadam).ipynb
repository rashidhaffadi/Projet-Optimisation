{
 "cells": [
  {
   "cell_type": "code",
   "execution_count": 1,
   "metadata": {
    "colab": {},
    "colab_type": "code",
    "id": "o6tX6HM8uC3F"
   },
   "outputs": [],
   "source": [
    "import numpy as np\n",
    "import matplotlib.pyplot as plt\n",
    "from sklearn.linear_model import LinearRegression\n",
    "\n",
    "np.random.seed(1)\n",
    "\n",
    "%matplotlib inline\n",
    "np.random.seed(1)"
   ]
  },
  {
   "cell_type": "markdown",
   "metadata": {
    "colab_type": "text",
    "id": "lnPaxtjluC4W"
   },
   "source": [
    "## Multivariate case\n",
    "\n",
    "We are trying to minimise $\\sum \\xi_i^2$. This time $ f = Xw$ where $w$ is Dx1 and $X$ is NxD.\n",
    "\n",
    "\\begin{align}\n",
    "\\mathcal{L} & = \\frac{1}{N} (y-Xw)^T(y-Xw) \\\\\n",
    "\\frac{\\delta\\mathcal{L}}{\\delta w} & = -\\frac{1}{N} 2\\left(\\frac{\\delta f(X,w)}{\\delta w}\\right)^T(y-Xw) \\\\ \n",
    "& = -\\frac{2}{N} \\left(\\frac{\\delta f(X,w)}{\\delta w}\\right)^T\\xi\n",
    "\\end{align}\n",
    "where $\\xi_i$ is the error term $y_i-f(X,w)$ and \n",
    "$$\n",
    "\\frac{\\delta f(X,w)}{\\delta w} = X\n",
    "$$\n",
    "\n",
    "Finally the weights can be updated as $w_{new} = w_{current} - \\gamma \\frac{\\delta\\mathcal{L}}{\\delta w}$ where $\\gamma$ is a learning rate between 0 and 1."
   ]
  },
  {
   "cell_type": "code",
   "execution_count": 3,
   "metadata": {
    "colab": {},
    "colab_type": "code",
    "id": "L1LyM0TUuC4Y"
   },
   "outputs": [],
   "source": [
    "N = 1000\n",
    "D = 5\n",
    "X = 5*np.random.randn(N,D)\n",
    "w_true = np.random.randn(D,1)\n",
    "y = X.dot(w_true)\n",
    "y_obs = y + np.random.randn(N,1)"
   ]
  },
  {
   "cell_type": "code",
   "execution_count": 4,
   "metadata": {
    "colab": {},
    "colab_type": "code",
    "id": "wl6w5KwouC5q"
   },
   "outputs": [
    {
     "data": {
      "text/plain": [
       "array([[-0.92475528],\n",
       "       [ 1.1288899 ],\n",
       "       [-1.12879127],\n",
       "       [-0.72473762],\n",
       "       [ 0.62357121]])"
      ]
     },
     "execution_count": 4,
     "metadata": {},
     "output_type": "execute_result"
    }
   ],
   "source": [
    "model = LinearRegression(fit_intercept=False)\n",
    "model.fit(X,y)\n",
    "model.coef_.T"
   ]
  },
  {
   "cell_type": "markdown",
   "metadata": {
    "colab_type": "text",
    "id": "GgJa5CAMuC59"
   },
   "source": [
    "## Stochastic Gradient Descent"
   ]
  },
  {
   "cell_type": "code",
   "execution_count": null,
   "metadata": {},
   "outputs": [],
   "source": [
    "def dL_dw(X,e,w):\n",
    "    return -2*e*X.T/len(X)\n",
    "\n",
    "def loss_function(e):\n",
    "    L = e.T.dot(e)/N\n",
    "    return L"
   ]
  },
  {
   "cell_type": "code",
   "execution_count": 15,
   "metadata": {
    "colab": {},
    "colab_type": "code",
    "id": "2oeytvXXxRr4"
   },
   "outputs": [],
   "source": [
    "\n",
    "def Nadam(X,y_obs,alpha=0.1, mu = 0.9, nu=0.999,epsilon=1e-8):\n",
    "    #Initialisation des paramétres \n",
    "    N = len(X)\n",
    "    D = len(X[0])\n",
    "    # les conditions initiales\n",
    "    w = np.random.randn(D,1)\n",
    "    params = []\n",
    "    loss = np.zeros((N,1))\n",
    "    Loss = np.zeros((N,1))\n",
    "    m = np.zeros((D,1))\n",
    "    n = np.zeros((D,1))\n",
    "    muI = mu\n",
    "    nuI = 1\n",
    "    for i in range(N):\n",
    "        params.append(w)\n",
    "        idx = np.random.choice(N,1,replace=False)\n",
    "        e = y_obs[idx] - X[idx].dot(w)\n",
    "        #just for testing\n",
    "        ##########################\n",
    "        e_global = y_obs - X.dot(w)\n",
    "        L = loss_function(e_global)\n",
    "        ##########################\n",
    "        sg = dL_dw(X[idx],e,w)\n",
    "        m = mu*m + (1-mu)*sg\n",
    "        n = nu*n + (1-nu)*sg*sg\n",
    "        muI = muI*mu\n",
    "        mHat = (mu*m/(1-muI)) + ((1-mu)*sg/(1-muI))\n",
    "        nuI = nuI * nu\n",
    "        nHat = nu*n/(1-nuI)\n",
    "        w = w - alpha*mHat/(np.sqrt(nHat+epsilon))\n",
    "        loss[i] = (e - (y_obs[idx] - X[idx].dot(w)))**2\n",
    "        Loss[i] = L\n",
    "        \n",
    "    return params,loss,Loss"
   ]
  },
  {
   "cell_type": "code",
   "execution_count": null,
   "metadata": {},
   "outputs": [],
   "source": [
    "params, loss, Loss = Nadam(X,y_obs)#Test sur X et y_obs"
   ]
  },
  {
   "cell_type": "code",
   "execution_count": 17,
   "metadata": {
    "colab": {},
    "colab_type": "code",
    "id": "z9rjeQVNuC6E"
   },
   "outputs": [
    {
     "data": {
      "text/plain": [
       "[<matplotlib.lines.Line2D at 0x55e5a20>]"
      ]
     },
     "execution_count": 17,
     "metadata": {},
     "output_type": "execute_result"
    },
    {
     "data": {
      "image/png": "[encoded data removed]",
      "text/plain": [
       "<Figure size 432x288 with 1 Axes>"
      ]
     },
     "metadata": {
      "needs_background": "light"
     },
     "output_type": "display_data"
    }
   ],
   "source": [
    "plt.plot(loss)\n",
    "plt.plot(Loss) "
   ]
  },
  {
   "cell_type": "code",
   "execution_count": 13,
   "metadata": {
    "colab": {},
    "colab_type": "code",
    "id": "6_cJy3eUakMe"
   },
   "outputs": [
    {
     "data": {
      "text/plain": [
       "array([26.58521559])"
      ]
     },
     "execution_count": 13,
     "metadata": {},
     "output_type": "execute_result"
    }
   ],
   "source": [
    "Loss[-1]"
   ]
  },
  {
   "cell_type": "code",
   "execution_count": null,
   "metadata": {},
   "outputs": [],
   "source": [
    "# compare parameters side by side\n",
    "np.hstack([params[-1],model.coef_.T])"
   ]
  }
 ],
 "metadata": {
  "accelerator": "GPU",
  "colab": {
   "collapsed_sections": [],
   "name": "Notebook 2 (Nadam).ipynb",
   "private_outputs": true,
   "provenance": [],
   "version": "0.3.2"
  },
  "kernelspec": {
   "display_name": "Python [default]",
   "language": "python",
   "name": "python3"
  },
  "language_info": {
   "codemirror_mode": {
    "name": "ipython",
    "version": 3
   },
   "file_extension": ".py",
   "mimetype": "text/x-python",
   "name": "python",
   "nbconvert_exporter": "python",
   "pygments_lexer": "ipython3",
   "version": "3.7.0"
  }
 },
 "nbformat": 4,
 "nbformat_minor": 1
}
