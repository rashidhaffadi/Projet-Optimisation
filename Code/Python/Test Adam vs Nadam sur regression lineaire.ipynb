{
 "cells": [
  {
   "cell_type": "code",
   "execution_count": 60,
   "metadata": {},
   "outputs": [
    {
     "name": "stdout",
     "output_type": "stream",
     "text": [
      "ok\n"
     ]
    }
   ],
   "source": [
    "import numpy as np\n",
    "import matplotlib.pyplot as plt\n",
    "from sklearn.linear_model import LinearRegression\n",
    "\n",
    "np.random.seed(1)\n",
    "\n",
    "%matplotlib inline\n",
    "np.random.seed(1)\n",
    "print('ok')"
   ]
  },
  {
   "cell_type": "code",
   "execution_count": 61,
   "metadata": {},
   "outputs": [
    {
     "name": "stdout",
     "output_type": "stream",
     "text": [
      "ok\n"
     ]
    }
   ],
   "source": [
    "N = 10000\n",
    "D = 10\n",
    "X = 10*np.random.randn(N,D)\n",
    "w_true = np.random.randn(D,1)\n",
    "y = X.dot(w_true)\n",
    "y_obs = y + np.random.randn(N,1)*5\n",
    "print('ok')"
   ]
  },
  {
   "cell_type": "code",
   "execution_count": 77,
   "metadata": {},
   "outputs": [
    {
     "name": "stdout",
     "output_type": "stream",
     "text": [
      "ok\n"
     ]
    }
   ],
   "source": [
    "def dL_dw(X,e):\n",
    "    return -e*X.T/len(e)\n",
    "\n",
    "def loss_function(e):\n",
    "    L = e.T.dot(e)/N/2\n",
    "    return L\n",
    "print('ok')"
   ]
  },
  {
   "cell_type": "code",
   "execution_count": 78,
   "metadata": {},
   "outputs": [],
   "source": [
    "\n",
    "def Nadam(X,y_obs,alpha=0.01, mu = 0.9, nu=0.999,epsilon=1e-8, epochs=100):\n",
    "    #Initialisation des paramétres \n",
    "    N = len(X)\n",
    "    D = len(X[0])\n",
    "    # les conditions initiales\n",
    "    w = np.random.randn(D,1)\n",
    "    params = []\n",
    "    #loss = np.zeros((N,1))\n",
    "    Loss = np.zeros((epochs,1))\n",
    "    m = np.zeros((D,1))\n",
    "    n = np.zeros((D,1))\n",
    "    muI = mu\n",
    "    nuI = 1\n",
    "    for j in range(epochs):\n",
    "        for i in range(int(N/epochs)):\n",
    "            idx = np.random.choice(N,1,replace=False)\n",
    "            e = y_obs[idx] - X[idx].dot(w)\n",
    "            sg = dL_dw(X[idx],e)\n",
    "            m = mu*m + (1-mu)*sg\n",
    "            n = nu*n + (1-nu)*sg*sg\n",
    "            muI = muI*mu\n",
    "            mHat = (mu*m/(1-muI)) + ((1-mu)*sg/(1-muI))\n",
    "            nuI = nuI * nu\n",
    "            nHat = nu*n/(1-nuI)\n",
    "            w = w - alpha*mHat/(np.sqrt(nHat+epsilon))\n",
    "            #loss[i] = (e - (y_obs[idx] - X[idx].dot(w)))**2\n",
    "        params.append(w)\n",
    "        e_global = y_obs - X.dot(w)\n",
    "        L = loss_function(e_global)\n",
    "        Loss[j]=L\n",
    "    return params,Loss\n"
   ]
  },
  {
   "cell_type": "code",
   "execution_count": 79,
   "metadata": {},
   "outputs": [],
   "source": [
    "\n",
    "def Adamax(X,y_obs,alpha=0.01, beta1 = 0.9, beta2=0.999,epochs = 100):\n",
    "    #Initialisation des paramétres \n",
    "    N = len(X)\n",
    "    D = len(X[0])\n",
    "    # les conditions initiales\n",
    "    w = np.random.randn(D,1)\n",
    "    params = []\n",
    "    loss = np.zeros((N,1))\n",
    "    Loss = np.zeros((epochs,1))\n",
    "    m = np.zeros((D,1))\n",
    "    u = np.zeros((D,1))\n",
    "    betai = 1\n",
    "    for j in range(epochs):\n",
    "        for i in range(int(N/epochs)):\n",
    "            idx = np.random.choice(N,1,replace=False)\n",
    "            e = y_obs[idx] - X[idx].dot(w)\n",
    "            sg = dL_dw(X[idx],e)\n",
    "            m = beta1*m + (1-beta1)*sg\n",
    "            u = np.maximum(beta2*u, abs(sg))\n",
    "            betai = betai*beta1\n",
    "            mHat = (m/(1-betai))\n",
    "            w = w - alpha*mHat/u\n",
    "            #loss[i] = (e - (y_obs[idx] - X[idx].dot(w)))**2\n",
    "        params.append(w)    \n",
    "        e_global = y_obs - X.dot(w)\n",
    "        L = loss_function(e_global)\n",
    "        Loss[j] = L\n",
    "    return params,Loss"
   ]
  },
  {
   "cell_type": "code",
   "execution_count": 97,
   "metadata": {},
   "outputs": [],
   "source": [
    "def gradient_descent(gamma=0.00002, n_epochs=100, batch_size=100, decay=0.9):\n",
    "    \n",
    "    # get starting conditions\n",
    "    w = np.random.randn(D,1)\n",
    "    params = []\n",
    "    Loss = np.zeros((n_epochs,1))\n",
    "    for i in range(n_epochs):\n",
    "        \n",
    "        for j in range(int(N/n_epochs)):\n",
    "            idx = np.random.choice(N,1,replace=False)\n",
    "            e = y_obs[idx] - X[idx].dot(w) # Really important that you use y_obs and not y (you do not have access to true y)\n",
    "            #update parameters\n",
    "            w = w - gamma*dL_dw(X[idx],e)  \n",
    "        params.append(w)\n",
    "        gamma = gamma*decay #decay the learning parameter\n",
    "        e_global = y_obs - X.dot(w)\n",
    "        L = loss_function(e_global)\n",
    "        Loss[i] = L\n",
    "    return params, Loss\n",
    "        \n",
    "params_GS, Loss_GS = gradient_descent()"
   ]
  },
  {
   "cell_type": "code",
   "execution_count": 98,
   "metadata": {},
   "outputs": [],
   "source": [
    "params_adamax, Loss_adamax = Adamax(X,y_obs)#Test avec Adamax sur X et y_obs"
   ]
  },
  {
   "cell_type": "code",
   "execution_count": 99,
   "metadata": {},
   "outputs": [],
   "source": [
    "params_nadam, Loss_nadam = Nadam(X,y_obs)#Test avec Nadam sur X et y_obs"
   ]
  },
  {
   "cell_type": "code",
   "execution_count": 89,
   "metadata": {},
   "outputs": [
    {
     "data": {
      "text/plain": [
       "LinearRegression(copy_X=True, fit_intercept=False, n_jobs=1, normalize=False)"
      ]
     },
     "execution_count": 89,
     "metadata": {},
     "output_type": "execute_result"
    }
   ],
   "source": [
    "model = LinearRegression(fit_intercept=False)\n",
    "model.fit(X,y_obs)"
   ]
  },
  {
   "cell_type": "code",
   "execution_count": 90,
   "metadata": {},
   "outputs": [
    {
     "data": {
      "text/plain": [
       "array([[-2.25613108, -2.24167973, -2.24042919, -2.22355726],\n",
       "       [ 0.5660429 ,  0.60337917,  0.60366282,  0.65241265],\n",
       "       [ 1.20081684,  1.17099438,  1.18439142,  1.20312658],\n",
       "       [ 0.36379672,  0.32736652,  0.32363161,  0.29860087],\n",
       "       [ 0.11600013,  0.06113592,  0.0609007 , -0.03923627],\n",
       "       [ 0.6740637 ,  0.65888715,  0.66697908,  0.69140994],\n",
       "       [ 0.26635791,  0.2481525 ,  0.23450651,  0.19058202],\n",
       "       [-0.14726094, -0.15522255, -0.16943645, -0.13667322],\n",
       "       [ 0.40914312,  0.39988609,  0.39861843,  0.40178094],\n",
       "       [ 0.95560556,  0.93930647,  0.94297948,  0.88491146]])"
      ]
     },
     "execution_count": 90,
     "metadata": {},
     "output_type": "execute_result"
    }
   ],
   "source": [
    "np.hstack([params_adamax[-1],params_GS[-1],model.coef_.T,params_nadam[-1]])"
   ]
  },
  {
   "cell_type": "code",
   "execution_count": 100,
   "metadata": {
    "scrolled": true
   },
   "outputs": [
    {
     "data": {
      "image/png": "[encoded data removed]",
      "text/plain": [
       "<Figure size 432x288 with 1 Axes>"
      ]
     },
     "metadata": {
      "needs_background": "light"
     },
     "output_type": "display_data"
    }
   ],
   "source": [
    "plt.plot(Loss_adamax, color='r', label='AdaMax')\n",
    "plt.plot(Loss_nadam, color='b', label='Nadam')\n",
    "plt.plot(Loss_GS, color='g', label='Gradient stochastique')\n",
    "plt.legend(loc='upper right')\n",
    "plt.xlabel('itération')\n",
    "plt.ylabel('Erreur quadratique')\n",
    "plt.title('Comparaison entre AdaMax et Nadam')\n",
    "\n",
    "plt.show()"
   ]
  },
  {
   "cell_type": "code",
   "execution_count": 92,
   "metadata": {},
   "outputs": [
    {
     "name": "stdout",
     "output_type": "stream",
     "text": [
      "[12.84912781]\n",
      "[13.47355791]\n",
      "[12.46124738]\n"
     ]
    }
   ],
   "source": [
    "print(Loss_adamax[-1])\n",
    "print(Loss_nadam[-1])\n",
    "print(Loss_GS[-1])"
   ]
  },
  {
   "cell_type": "code",
   "execution_count": null,
   "metadata": {},
   "outputs": [],
   "source": []
  }
 ],
 "metadata": {
  "kernelspec": {
   "display_name": "Python [conda env:Anaconda3]",
   "language": "python",
   "name": "conda-env-Anaconda3-py"
  },
  "language_info": {
   "codemirror_mode": {
    "name": "ipython",
    "version": 3
   },
   "file_extension": ".py",
   "mimetype": "text/x-python",
   "name": "python",
   "nbconvert_exporter": "python",
   "pygments_lexer": "ipython3",
   "version": "3.7.0"
  }
 },
 "nbformat": 4,
 "nbformat_minor": 2
}
